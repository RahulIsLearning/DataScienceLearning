{
 "cells": [
  {
   "cell_type": "markdown",
   "id": "d8803ca3",
   "metadata": {},
   "source": [
    "**NLTK** - \n",
    "1. Less user friendly compared to spacy\n",
    "2. provides access to many algo. Customizations algorithm can be performed.\n",
    "3. It is string processing library\n",
    "4. Old library\n",
    "\n",
    "**Spacy** -\n",
    "1. User friendly\n",
    "2. provides most efficient NLP algorithm for given task. \n",
    "3. Object oriented\n",
    "4. New library"
   ]
  },
  {
   "cell_type": "code",
   "execution_count": 6,
   "id": "f4b31442",
   "metadata": {},
   "outputs": [],
   "source": [
    "#!pip install spacy\n",
    "#!pip install nltk"
   ]
  },
  {
   "cell_type": "code",
   "execution_count": 11,
   "id": "ae260ed6",
   "metadata": {},
   "outputs": [],
   "source": [
    "import spacy\n",
    "import nltk"
   ]
  },
  {
   "cell_type": "code",
   "execution_count": 20,
   "id": "df7d9bf5",
   "metadata": {},
   "outputs": [
    {
     "name": "stderr",
     "output_type": "stream",
     "text": [
      "[nltk_data] Downloading package punkt to\n",
      "[nltk_data]     C:\\Users\\rahul\\AppData\\Roaming\\nltk_data...\n",
      "[nltk_data]   Unzipping tokenizers\\punkt.zip.\n"
     ]
    },
    {
     "data": {
      "text/plain": [
       "True"
      ]
     },
     "execution_count": 20,
     "metadata": {},
     "output_type": "execute_result"
    }
   ],
   "source": [
    "#!python -m spacy download en\n",
    "\n",
    "nltk.download('punkt')"
   ]
  },
  {
   "cell_type": "code",
   "execution_count": 15,
   "id": "0218ca4e",
   "metadata": {},
   "outputs": [],
   "source": [
    "nlp = spacy.load(\"en_core_web_sm\")"
   ]
  },
  {
   "cell_type": "code",
   "execution_count": 17,
   "id": "5e79324c",
   "metadata": {},
   "outputs": [
    {
     "name": "stdout",
     "output_type": "stream",
     "text": [
      "A.P.J. Abdul Kalam, in full Avul Pakir Jainulabdeen Abdul Kalam, (born October 15, 1931, Rameswaram, India—died July 27, 2015, Shillong), Indian scientist and politician who played a leading role in the development of India’s missile and nuclear weapons programs.\n",
      "He was president of India from 2002 to 2007.\n"
     ]
    }
   ],
   "source": [
    "data = \"A.P.J. Abdul Kalam, in full Avul Pakir Jainulabdeen Abdul Kalam, (born October 15, 1931, Rameswaram, India—died July 27, 2015, Shillong), Indian scientist and politician who played a leading role in the development of India’s missile and nuclear weapons programs. He was president of India from 2002 to 2007.\"\n",
    "doc = nlp(data)\n",
    "\n",
    "for sentence in doc.sents:\n",
    "    print(sentence)"
   ]
  },
  {
   "cell_type": "code",
   "execution_count": 18,
   "id": "cb722ba6",
   "metadata": {},
   "outputs": [
    {
     "name": "stdout",
     "output_type": "stream",
     "text": [
      "A.P.J.\n",
      "Abdul\n",
      "Kalam\n",
      ",\n",
      "in\n",
      "full\n",
      "Avul\n",
      "Pakir\n",
      "Jainulabdeen\n",
      "Abdul\n",
      "Kalam\n",
      ",\n",
      "(\n",
      "born\n",
      "October\n",
      "15\n",
      ",\n",
      "1931\n",
      ",\n",
      "Rameswaram\n",
      ",\n",
      "India\n",
      "—\n",
      "died\n",
      "July\n",
      "27\n",
      ",\n",
      "2015\n",
      ",\n",
      "Shillong\n",
      ")\n",
      ",\n",
      "Indian\n",
      "scientist\n",
      "and\n",
      "politician\n",
      "who\n",
      "played\n",
      "a\n",
      "leading\n",
      "role\n",
      "in\n",
      "the\n",
      "development\n",
      "of\n",
      "India\n",
      "’s\n",
      "missile\n",
      "and\n",
      "nuclear\n",
      "weapons\n",
      "programs\n",
      ".\n",
      "He\n",
      "was\n",
      "president\n",
      "of\n",
      "India\n",
      "from\n",
      "2002\n",
      "to\n",
      "2007\n",
      ".\n"
     ]
    }
   ],
   "source": [
    "for sentence in doc.sents:\n",
    "    for word in sentence:\n",
    "        print(word)"
   ]
  },
  {
   "cell_type": "code",
   "execution_count": 21,
   "id": "4fc11fea",
   "metadata": {},
   "outputs": [
    {
     "data": {
      "text/plain": [
       "['A.P.J.',\n",
       " 'Abdul Kalam, in full Avul Pakir Jainulabdeen Abdul Kalam, (born October 15, 1931, Rameswaram, India—died July 27, 2015, Shillong), Indian scientist and politician who played a leading role in the development of India’s missile and nuclear weapons programs.',\n",
       " 'He was president of India from 2002 to 2007.']"
      ]
     },
     "execution_count": 21,
     "metadata": {},
     "output_type": "execute_result"
    }
   ],
   "source": [
    "from nltk.tokenize import sent_tokenize\n",
    "sent_tokenize(data)"
   ]
  }
 ],
 "metadata": {
  "kernelspec": {
   "display_name": "Python 3 (ipykernel)",
   "language": "python",
   "name": "python3"
  },
  "language_info": {
   "codemirror_mode": {
    "name": "ipython",
    "version": 3
   },
   "file_extension": ".py",
   "mimetype": "text/x-python",
   "name": "python",
   "nbconvert_exporter": "python",
   "pygments_lexer": "ipython3",
   "version": "3.9.12"
  }
 },
 "nbformat": 4,
 "nbformat_minor": 5
}
