{
 "cells": [
  {
   "cell_type": "markdown",
   "id": "9274b524",
   "metadata": {},
   "source": [
    "**Tokenization** is process of splitting text into meaningful segments"
   ]
  },
  {
   "cell_type": "code",
   "execution_count": 1,
   "id": "8f5256dd",
   "metadata": {},
   "outputs": [],
   "source": [
    "import spacy"
   ]
  },
  {
   "cell_type": "markdown",
   "id": "51ed1b56",
   "metadata": {},
   "source": [
    "Creating blank language object gives a tokenizer and an empty pipeline"
   ]
  },
  {
   "attachments": {
    "Screenshot%202023-07-01%20111938.jpg": {
     "image/jpeg": "[encoded data removed]"
    }
   },
   "cell_type": "markdown",
   "id": "4d93610d",
   "metadata": {},
   "source": [
    "![Screenshot%202023-07-01%20111938.jpg](attachment:Screenshot%202023-07-01%20111938.jpg)"
   ]
  },
  {
   "cell_type": "code",
   "execution_count": 2,
   "id": "a41a2462",
   "metadata": {},
   "outputs": [],
   "source": [
    "nlp = spacy.blank('en')"
   ]
  },
  {
   "cell_type": "code",
   "execution_count": 3,
   "id": "42c46799",
   "metadata": {},
   "outputs": [],
   "source": [
    "# Read the input data\n",
    "text = \"Revenue in the Food market amounts to nine million $ in 2023.\"\n",
    "doc = nlp(text)"
   ]
  },
  {
   "cell_type": "code",
   "execution_count": 4,
   "id": "875b5aab",
   "metadata": {},
   "outputs": [],
   "source": [
    "def checkTokenData(tokendata):\n",
    "    if(tokendata.is_alpha):\n",
    "        print(tokendata, \" -> is alphabet\")\n",
    "    elif(tokendata.like_num):\n",
    "        print(tokendata, \" -> is digit\")\n",
    "    elif(tokendata.is_currency):\n",
    "        print(tokendata, \" -> is currency\")\n",
    "        "
   ]
  },
  {
   "cell_type": "code",
   "execution_count": 5,
   "id": "77048e6a",
   "metadata": {},
   "outputs": [
    {
     "name": "stdout",
     "output_type": "stream",
     "text": [
      "Revenue  -> is alphabet\n",
      "in  -> is alphabet\n",
      "the  -> is alphabet\n",
      "Food  -> is alphabet\n",
      "market  -> is alphabet\n",
      "amounts  -> is alphabet\n",
      "to  -> is alphabet\n",
      "nine  -> is alphabet\n",
      "million  -> is alphabet\n",
      "$  -> is currency\n",
      "in  -> is alphabet\n",
      "2023  -> is digit\n"
     ]
    }
   ],
   "source": [
    "for token in doc:\n",
    "    (checkTokenData(token))"
   ]
  },
  {
   "cell_type": "markdown",
   "id": "903430f6",
   "metadata": {},
   "source": [
    "**hindi language tokenizer**"
   ]
  },
  {
   "cell_type": "code",
   "execution_count": 6,
   "id": "b6d115bf",
   "metadata": {},
   "outputs": [],
   "source": [
    "## Hindi language\n",
    "\n",
    "nlpHindi = spacy.blank(\"hi\")\n",
    "hindi_text = \"पापा मुझे ५०००० ₹ का मोबाइल चाहिए\"\n",
    "dochindi = nlpHindi(hindi_text)"
   ]
  },
  {
   "cell_type": "code",
   "execution_count": 7,
   "id": "0286ed45",
   "metadata": {},
   "outputs": [
    {
     "name": "stdout",
     "output_type": "stream",
     "text": [
      "५००००\n",
      "₹\n"
     ]
    }
   ],
   "source": [
    "for token in dochindi:\n",
    "    if (token.like_num) | (token.is_currency):\n",
    "        print(token)"
   ]
  },
  {
   "cell_type": "markdown",
   "id": "6b8ad274",
   "metadata": {},
   "source": [
    "**adding special rule in tokennizer**"
   ]
  },
  {
   "cell_type": "code",
   "execution_count": 8,
   "id": "fcf7ca1d",
   "metadata": {},
   "outputs": [
    {
     "data": {
      "text/plain": [
       "[gimme, double, cheese, extra, large, healthy, pizza]"
      ]
     },
     "execution_count": 8,
     "metadata": {},
     "output_type": "execute_result"
    }
   ],
   "source": [
    "# adding special rule in tokennizer\n",
    "\n",
    "text_sp = \"gimme double cheese extra large healthy pizza\"\n",
    "dox_sp = nlp(text_sp)\n",
    "token_sp = [t for t in dox_sp]\n",
    "token_sp"
   ]
  },
  {
   "cell_type": "code",
   "execution_count": 9,
   "id": "ea28bf74",
   "metadata": {},
   "outputs": [
    {
     "data": {
      "text/plain": [
       "[gim, me, double, cheese, extra, large, healthy, pizza]"
      ]
     },
     "execution_count": 9,
     "metadata": {},
     "output_type": "execute_result"
    }
   ],
   "source": [
    "from spacy.symbols import ORTH\n",
    "\n",
    "nlp.tokenizer.add_special_case('gimme',[\n",
    "    {ORTH:\"gim\"},\n",
    "    {ORTH:\"me\"}\n",
    "])\n",
    "\n",
    "text_sp = \"gimme double cheese extra large healthy pizza\"\n",
    "dox_sp = nlp(text_sp)\n",
    "token_sp = [t for t in dox_sp]\n",
    "token_sp"
   ]
  },
  {
   "cell_type": "markdown",
   "id": "d07ba4a0",
   "metadata": {},
   "source": [
    "**Tokenizing sentences**"
   ]
  },
  {
   "cell_type": "code",
   "execution_count": 10,
   "id": "a4d9ed69",
   "metadata": {},
   "outputs": [],
   "source": [
    "text = \"Dr. A.P.J Kalam served as the 11th president of India, succeeding K. R. Narayanan. He won the 2002 presidential election with an electoral vote of 922,884, surpassing the 107,366 votes won by Lakshmi Sahgal. His term lasted from 25 July 2002, to 25 July 2007.\""
   ]
  },
  {
   "cell_type": "code",
   "execution_count": 11,
   "id": "4edbfd7b",
   "metadata": {},
   "outputs": [
    {
     "data": {
      "text/plain": [
       "<spacy.pipeline.sentencizer.Sentencizer at 0x1ef69031b00>"
      ]
     },
     "execution_count": 11,
     "metadata": {},
     "output_type": "execute_result"
    }
   ],
   "source": [
    "nlp.add_pipe('sentencizer')"
   ]
  },
  {
   "cell_type": "code",
   "execution_count": 12,
   "id": "8f2c9138",
   "metadata": {},
   "outputs": [
    {
     "data": {
      "text/plain": [
       "['sentencizer']"
      ]
     },
     "execution_count": 12,
     "metadata": {},
     "output_type": "execute_result"
    }
   ],
   "source": [
    "nlp.pipe_names"
   ]
  },
  {
   "cell_type": "code",
   "execution_count": 13,
   "id": "9cd3f2df",
   "metadata": {},
   "outputs": [
    {
     "name": "stdout",
     "output_type": "stream",
     "text": [
      "Dr. A.P.J Kalam served as the 11th president of India, succeeding K. R. Narayanan.\n",
      "He won the 2002 presidential election with an electoral vote of 922,884, surpassing the 107,366 votes won by Lakshmi Sahgal.\n",
      "His term lasted from 25 July 2002, to 25 July 2007.\n"
     ]
    }
   ],
   "source": [
    "doc = nlp(text)\n",
    "for sentence in doc.sents:\n",
    "    print(sentence)"
   ]
  },
  {
   "cell_type": "markdown",
   "id": "c9583e57",
   "metadata": {},
   "source": [
    "**Exercise**"
   ]
  },
  {
   "cell_type": "code",
   "execution_count": 15,
   "id": "2f49f35d",
   "metadata": {},
   "outputs": [
    {
     "data": {
      "text/plain": [
       "['http://www.data.gov/',\n",
       " 'http://www.science',\n",
       " 'http://data.gov.uk/.',\n",
       " 'http://www3.norc.org/gss+website/',\n",
       " 'http://www.europeansocialsurvey.org/.']"
      ]
     },
     "execution_count": 15,
     "metadata": {},
     "output_type": "execute_result"
    }
   ],
   "source": [
    "# Get the URLs from the given text\n",
    "\n",
    "text='''\n",
    "Look for data to help you address the question. Governments are good\n",
    "sources because data from public research is often freely available. Good\n",
    "places to start include http://www.data.gov/, and http://www.science.\n",
    "gov/, and in the United Kingdom, http://data.gov.uk/.\n",
    "Two of my favorite data sets are the General Social Survey at http://www3.norc.org/gss+website/, \n",
    "and the European Social Survey at http://www.europeansocialsurvey.org/.\n",
    "'''\n",
    "\n",
    "doc = nlp(text)\n",
    "data_websites = [token.text for token in doc if token.like_url ] \n",
    "data_websites"
   ]
  },
  {
   "cell_type": "code",
   "execution_count": 16,
   "id": "aec96002",
   "metadata": {},
   "outputs": [
    {
     "name": "stdout",
     "output_type": "stream",
     "text": [
      "two $\n",
      "500 €\n"
     ]
    }
   ],
   "source": [
    "# Figure out all transactions from this text with amount and currency\n",
    "\n",
    "transactions = \"Tony gave two $ to Peter, Bruce gave 500 € to Steve\"\n",
    "doc = nlp(transactions)\n",
    "for token in doc:\n",
    "    if token.like_num and doc[token.i+1].is_currency:\n",
    "        print(token.text, doc[token.i+1].text) "
   ]
  }
 ],
 "metadata": {
  "kernelspec": {
   "display_name": "Python 3 (ipykernel)",
   "language": "python",
   "name": "python3"
  },
  "language_info": {
   "codemirror_mode": {
    "name": "ipython",
    "version": 3
   },
   "file_extension": ".py",
   "mimetype": "text/x-python",
   "name": "python",
   "nbconvert_exporter": "python",
   "pygments_lexer": "ipython3",
   "version": "3.9.12"
  }
 },
 "nbformat": 4,
 "nbformat_minor": 5
}
