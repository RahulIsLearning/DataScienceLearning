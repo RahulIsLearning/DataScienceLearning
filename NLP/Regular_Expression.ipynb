{
 "cells": [
  {
   "cell_type": "code",
   "execution_count": 4,
   "id": "59d6b87a",
   "metadata": {},
   "outputs": [],
   "source": [
    "import re   # importing regular expression"
   ]
  },
  {
   "cell_type": "code",
   "execution_count": 3,
   "id": "0706eb1e",
   "metadata": {},
   "outputs": [],
   "source": [
    "case1 = \"phone number = +919970700145, emailid = rahulchanda43@gmail.com\"\n",
    "case2 = \"+(91)-9970700145, rahulchanda43@gmail.com\"\n",
    "case3 = \"+91-997-070-0145, rahulchanda43@gmail.com\""
   ]
  },
  {
   "cell_type": "code",
   "execution_count": 9,
   "id": "1dbd702e",
   "metadata": {},
   "outputs": [
    {
     "name": "stdout",
     "output_type": "stream",
     "text": [
      "['+(91)-9970700145']\n",
      "['rahulchanda43@gmail.com']\n"
     ]
    }
   ],
   "source": [
    "pattern_phone = \"\\+\\(\\d{2}\\)-\\d{10}|\\+\\d{2}\\d{10}|\\+\\d{2}-\\d{3}-\\d{3}-\\d{4}\"\n",
    "pattern_email = \"[a-zA-Z0-9]*@[a-z]*.[a-z]*\"\n",
    "matches = re.findall(pattern, case2)\n",
    "print(matches)\n",
    "\n",
    "matches_email = re.findall(pattern_email, case2)\n",
    "print(matches_email)"
   ]
  },
  {
   "cell_type": "markdown",
   "id": "25167d19",
   "metadata": {},
   "source": [
    "Getting personal information and fetching important data using regex"
   ]
  },
  {
   "cell_type": "code",
   "execution_count": 12,
   "id": "817998c2",
   "metadata": {},
   "outputs": [],
   "source": [
    "information = \"\"\"\n",
    "Name\tVirat Kohli\n",
    "Personal information\n",
    "Born\t5 November 1988 (age 34)\n",
    "Delhi, India\n",
    "Nickname\tCheeku,[1] King Kohli[2]\n",
    "Height\t5 ft 9 in (175 cm)[3]\n",
    "Batting\tRight-handed\n",
    "Bowling\tRight-arm medium\n",
    "Role\tTop-order batter\n",
    "Relations\tAnushka Sharma (wife)\n",
    "\"\"\""
   ]
  },
  {
   "cell_type": "code",
   "execution_count": 17,
   "id": "ef7ed616",
   "metadata": {},
   "outputs": [],
   "source": [
    "def get_match(pattern, text):\n",
    "    matches = re.findall(pattern, text)\n",
    "    if matches:\n",
    "        return matches[0].strip()"
   ]
  },
  {
   "cell_type": "code",
   "execution_count": 23,
   "id": "14f61b47",
   "metadata": {},
   "outputs": [],
   "source": [
    "def get_match(pattern, text):\n",
    "    matches = re.findall(pattern, text)\n",
    "    if matches:\n",
    "        return matches[0].strip()\n",
    "    \n",
    "def get_information(info):\n",
    "    name = get_match('Name(.*)',info)\n",
    "    age = get_match('\\(age(.*)\\)', info)\n",
    "    return name, age"
   ]
  },
  {
   "cell_type": "code",
   "execution_count": 25,
   "id": "c7690d56",
   "metadata": {},
   "outputs": [
    {
     "name": "stdout",
     "output_type": "stream",
     "text": [
      "Age of Virat Kohli is 34\n"
     ]
    }
   ],
   "source": [
    "name, age = get_information(information)\n",
    "print(\"Age of {} is {}\".format(name,age))"
   ]
  }
 ],
 "metadata": {
  "kernelspec": {
   "display_name": "Python 3 (ipykernel)",
   "language": "python",
   "name": "python3"
  },
  "language_info": {
   "codemirror_mode": {
    "name": "ipython",
    "version": 3
   },
   "file_extension": ".py",
   "mimetype": "text/x-python",
   "name": "python",
   "nbconvert_exporter": "python",
   "pygments_lexer": "ipython3",
   "version": "3.9.12"
  }
 },
 "nbformat": 4,
 "nbformat_minor": 5
}
